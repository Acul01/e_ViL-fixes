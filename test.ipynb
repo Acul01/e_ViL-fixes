{
 "cells": [
  {
   "cell_type": "code",
   "execution_count": 4,
   "id": "78eaa647",
   "metadata": {},
   "outputs": [],
   "source": [
    "import pandas as pd\n",
    "import json\n",
    "\n",
    "# Pfad zur Datei\n",
    "path = \"data/vqax/test_x.json\"\n",
    "\n",
    "# JSON laden\n",
    "with open(path) as f:\n",
    "    rows = json.load(f)\n",
    "\n",
    "# In DataFrame umwandeln\n",
    "df = pd.DataFrame(rows)"
   ]
  },
  {
   "cell_type": "code",
   "execution_count": 5,
   "id": "3e13f45f",
   "metadata": {},
   "outputs": [
    {
     "name": "stdout",
     "output_type": "stream",
     "text": [
      "Spalten: ['answer_type', 'img_id', 'label', 'question_id', 'question_type', 'sent', 'explanation']\n",
      "Anzahl Beispiele: 1968\n"
     ]
    }
   ],
   "source": [
    "print(\"Spalten:\", df.columns.tolist())\n",
    "print(\"Anzahl Beispiele:\", len(df))"
   ]
  },
  {
   "cell_type": "code",
   "execution_count": 6,
   "id": "6cae621b",
   "metadata": {},
   "outputs": [
    {
     "data": {
      "text/html": [
       "<div>\n",
       "<style scoped>\n",
       "    .dataframe tbody tr th:only-of-type {\n",
       "        vertical-align: middle;\n",
       "    }\n",
       "\n",
       "    .dataframe tbody tr th {\n",
       "        vertical-align: top;\n",
       "    }\n",
       "\n",
       "    .dataframe thead th {\n",
       "        text-align: right;\n",
       "    }\n",
       "</style>\n",
       "<table border=\"1\" class=\"dataframe\">\n",
       "  <thead>\n",
       "    <tr style=\"text-align: right;\">\n",
       "      <th></th>\n",
       "      <th>answer_type</th>\n",
       "      <th>img_id</th>\n",
       "      <th>label</th>\n",
       "      <th>question_id</th>\n",
       "      <th>question_type</th>\n",
       "      <th>sent</th>\n",
       "      <th>explanation</th>\n",
       "    </tr>\n",
       "  </thead>\n",
       "  <tbody>\n",
       "    <tr>\n",
       "      <th>0</th>\n",
       "      <td>yes/no</td>\n",
       "      <td>COCO_val2014_000000327771</td>\n",
       "      <td>{'yes': 1}</td>\n",
       "      <td>327771001</td>\n",
       "      <td>is this</td>\n",
       "      <td>Is this room tidy?</td>\n",
       "      <td>[everything is in its place., there isn't a me...</td>\n",
       "    </tr>\n",
       "    <tr>\n",
       "      <th>1</th>\n",
       "      <td>yes/no</td>\n",
       "      <td>COCO_val2014_000000262896</td>\n",
       "      <td>{'no': 1, 'yes': 0.6}</td>\n",
       "      <td>262896005</td>\n",
       "      <td>is this</td>\n",
       "      <td>Is this healthy?</td>\n",
       "      <td>[it consists of particularly greasy and fatty ...</td>\n",
       "    </tr>\n",
       "    <tr>\n",
       "      <th>2</th>\n",
       "      <td>other</td>\n",
       "      <td>COCO_val2014_000000001270</td>\n",
       "      <td>{'baseball': 1}</td>\n",
       "      <td>1270002</td>\n",
       "      <td>what</td>\n",
       "      <td>What game are they playing?</td>\n",
       "      <td>[the boy has a catcher's mitt and the other bo...</td>\n",
       "    </tr>\n",
       "    <tr>\n",
       "      <th>3</th>\n",
       "      <td>other</td>\n",
       "      <td>COCO_val2014_000000396404</td>\n",
       "      <td>{'bench': 1}</td>\n",
       "      <td>396404001</td>\n",
       "      <td>what type of</td>\n",
       "      <td>What type of seat is pictured?</td>\n",
       "      <td>[It is in the middle of a park., it is a place...</td>\n",
       "    </tr>\n",
       "    <tr>\n",
       "      <th>4</th>\n",
       "      <td>yes/no</td>\n",
       "      <td>COCO_val2014_000000528200</td>\n",
       "      <td>{'no': 1}</td>\n",
       "      <td>528200000</td>\n",
       "      <td>is the</td>\n",
       "      <td>Is the table cluttered?</td>\n",
       "      <td>[There is only a single vase with flowers on i...</td>\n",
       "    </tr>\n",
       "  </tbody>\n",
       "</table>\n",
       "</div>"
      ],
      "text/plain": [
       "  answer_type                     img_id                  label  question_id  \\\n",
       "0      yes/no  COCO_val2014_000000327771             {'yes': 1}    327771001   \n",
       "1      yes/no  COCO_val2014_000000262896  {'no': 1, 'yes': 0.6}    262896005   \n",
       "2       other  COCO_val2014_000000001270        {'baseball': 1}      1270002   \n",
       "3       other  COCO_val2014_000000396404           {'bench': 1}    396404001   \n",
       "4      yes/no  COCO_val2014_000000528200              {'no': 1}    528200000   \n",
       "\n",
       "  question_type                            sent  \\\n",
       "0       is this              Is this room tidy?   \n",
       "1       is this                Is this healthy?   \n",
       "2          what     What game are they playing?   \n",
       "3  what type of  What type of seat is pictured?   \n",
       "4        is the         Is the table cluttered?   \n",
       "\n",
       "                                         explanation  \n",
       "0  [everything is in its place., there isn't a me...  \n",
       "1  [it consists of particularly greasy and fatty ...  \n",
       "2  [the boy has a catcher's mitt and the other bo...  \n",
       "3  [It is in the middle of a park., it is a place...  \n",
       "4  [There is only a single vase with flowers on i...  "
      ]
     },
     "execution_count": 6,
     "metadata": {},
     "output_type": "execute_result"
    }
   ],
   "source": [
    "df.head()"
   ]
  },
  {
   "cell_type": "code",
   "execution_count": 9,
   "id": "1506ac4e",
   "metadata": {},
   "outputs": [
    {
     "name": "stdout",
     "output_type": "stream",
     "text": [
      "Gespeichert: data/vqax/test_x1.json mit 10 Beispielen\n"
     ]
    }
   ],
   "source": [
    "import json\n",
    "\n",
    "# Eingabe- und Ausgabepfade\n",
    "in_path = \"data/vqax/test_x.json\"\n",
    "out_path = \"data/vqax/test_x1.json\"\n",
    "\n",
    "# Original laden\n",
    "with open(in_path, \"r\") as f:\n",
    "    data = json.load(f)\n",
    "\n",
    "# Ersten 10 Einträge nehmen\n",
    "subset = data[:10]\n",
    "\n",
    "# Speichern\n",
    "with open(out_path, \"w\") as f:\n",
    "    json.dump(subset, f, indent=2)\n",
    "\n",
    "print(f\"Gespeichert: {out_path} mit {len(subset)} Beispielen\")"
   ]
  },
  {
   "cell_type": "code",
   "execution_count": null,
   "id": "ce2f18f3",
   "metadata": {},
   "outputs": [],
   "source": []
  }
 ],
 "metadata": {
  "kernelspec": {
   "display_name": "Python 3 (ipykernel)",
   "language": "python",
   "name": "python3"
  },
  "language_info": {
   "codemirror_mode": {
    "name": "ipython",
    "version": 3
   },
   "file_extension": ".py",
   "mimetype": "text/x-python",
   "name": "python",
   "nbconvert_exporter": "python",
   "pygments_lexer": "ipython3",
   "version": "3.10.6"
  }
 },
 "nbformat": 4,
 "nbformat_minor": 5
}
